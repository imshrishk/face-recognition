{
 "cells": [
  {
   "cell_type": "code",
   "execution_count": 10,
   "metadata": {},
   "outputs": [],
   "source": [
    "import torch\n",
    "from torch import nn\n",
    "import torch.nn.functional as F\n",
    "from torchvision import transforms\n",
    "\n",
    "import timm\n",
    "from PIL import Image\n",
    "import matplotlib.pyplot as plt\n",
    "import json\n",
    "import os"
   ]
  },
  {
   "cell_type": "code",
   "execution_count": 11,
   "metadata": {},
   "outputs": [],
   "source": [
    "class ConvNeXtArcFace(nn.Module):\n",
    "    def __init__(self, model_name, embedding_size, pretrained=True):\n",
    "        super(ConvNeXtArcFace, self).__init__()\n",
    "        self.convnext = timm.create_model(model_name, pretrained=pretrained)\n",
    "        self.convnext.reset_classifier(num_classes=0, global_pool='avg')\n",
    "      \n",
    "    def forward(self, x):\n",
    "        x = self.convnext.forward_features(x) # \n",
    "        x = F.avg_pool2d(x, 7).flatten(1)\n",
    "        return x"
   ]
  },
  {
   "cell_type": "code",
   "execution_count": 12,
   "metadata": {},
   "outputs": [
    {
     "name": "stdout",
     "output_type": "stream",
     "text": [
      "\n"
     ]
    }
   ],
   "source": [
    "ckpt = torch.load(\"../safe/epoch_20.pth\")\n",
    "model_state_dict = ckpt['model_state_dict']\n",
    "model = ConvNeXtArcFace(model_name=\"mobilenetv4_conv_small\", embedding_size=960)\n",
    "model.load_state_dict(model_state_dict)\n",
    "model.eval()\n",
    "print()"
   ]
  },
  {
   "cell_type": "code",
   "execution_count": 13,
   "metadata": {},
   "outputs": [],
   "source": [
    "preprocess = transforms.Compose([\n",
    "    transforms.ToTensor(),\n",
    "    transforms.Normalize(mean=[0.485, 0.456, 0.406], std=[0.229, 0.224, 0.225])\n",
    "])\n",
    "def getImageTensor(imgpath):\n",
    "    img = Image.open(imgpath).convert('RGB')\n",
    "    img = img.resize((224, 224))\n",
    "    img_tensor = preprocess(img)\n",
    "    img_tensor = img_tensor.unsqueeze(0)\n",
    "    return img_tensor"
   ]
  },
  {
   "cell_type": "code",
   "execution_count": 14,
   "metadata": {},
   "outputs": [],
   "source": [
    "def getEmbeddings(imgpath):\n",
    "    img_tensor = getImageTensor(imgpath)\n",
    "    with torch.no_grad():\n",
    "        embeddings = model(img_tensor)\n",
    "        embeddings = embeddings.squeeze()\n",
    "    return embeddings"
   ]
  },
  {
   "cell_type": "code",
   "execution_count": 15,
   "metadata": {},
   "outputs": [],
   "source": [
    "name = \"Danny Trejo\"\n",
    "imgpath = \"dataset/Danny Trejo/image.png\""
   ]
  },
  {
   "cell_type": "code",
   "execution_count": 16,
   "metadata": {},
   "outputs": [],
   "source": [
    "# embeddings = getEmbeddings(imgpath)\n",
    "\n",
    "# try:\n",
    "#     with open(\"employee_embeddings/embeddings.json\", \"r\") as f:\n",
    "#         embeddings_list = json.load(f)\n",
    "# except FileNotFoundError:\n",
    "#     embeddings_list = []\n",
    "\n",
    "# embeddings_dict = {employee['name']: employee['embeddings'] for employee in embeddings_list}\n",
    "\n",
    "# if name in embeddings_dict:\n",
    "#     embeddings_dict[name].append(embeddings.tolist())\n",
    "# else:\n",
    "#     embeddings_dict[name] = [embeddings.tolist()]\n",
    "\n",
    "# embeddings_list = [{'name': name, 'embeddings': embeddings} for name, embeddings in embeddings_dict.items()]\n",
    "\n",
    "# with open(\"employee_embeddings/embeddings.json\", \"w\") as f:\n",
    "#     json.dump(embeddings_list, f, indent=4)"
   ]
  },
  {
   "cell_type": "code",
   "execution_count": 17,
   "metadata": {},
   "outputs": [],
   "source": [
    "dataset_dir = \"dataset\"\n",
    "embeddings_dict = {}\n",
    "\n",
    "for person_name in os.listdir(dataset_dir):\n",
    "    person_dir = os.path.join(dataset_dir, person_name)\n",
    "    if os.path.isdir(person_dir):\n",
    "        for img_name in os.listdir(person_dir):\n",
    "            img_path = os.path.join(person_dir, img_name)\n",
    "            embeddings = getEmbeddings(img_path)\n",
    "            if person_name in embeddings_dict:\n",
    "                embeddings_dict[person_name].append(embeddings.tolist())\n",
    "            else:\n",
    "                embeddings_dict[person_name] = [embeddings.tolist()]\n",
    "\n",
    "embeddings_list = [{'name': name, 'embeddings': embeddings} for name, embeddings in embeddings_dict.items()]\n",
    "\n",
    "with open(\"employee_embeddings/embeddings.json\", \"w\") as f:\n",
    "    json.dump(embeddings_list, f, indent=4)"
   ]
  }
 ],
 "metadata": {
  "kernelspec": {
   "display_name": "base",
   "language": "python",
   "name": "python3"
  },
  "language_info": {
   "codemirror_mode": {
    "name": "ipython",
    "version": 3
   },
   "file_extension": ".py",
   "mimetype": "text/x-python",
   "name": "python",
   "nbconvert_exporter": "python",
   "pygments_lexer": "ipython3",
   "version": "3.10.13"
  }
 },
 "nbformat": 4,
 "nbformat_minor": 2
}
